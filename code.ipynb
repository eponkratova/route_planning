{
 "cells": [
  {
   "cell_type": "code",
   "execution_count": null,
   "metadata": {},
   "outputs": [],
   "source": [
    "#Imnporting libraries\n",
    "import pandas as pd\n",
    "import numpy as np\n",
    "from scipy.optimize import fmin_slsqp\n",
    "import os\n",
    "import matplotlib.pyplot as plt\n",
    "import seaborn as sns\n",
    "from pprint import pprint\n",
    "import math\n",
    "import scipy\n",
    "import scipy.stats as stats\n",
    "from matplotlib.ticker import MultipleLocator\n",
    "from matplotlib.ticker import MaxNLocator\n",
    "import matplotlib.pyplot as plt\n",
    "from sklearn import datasets\n",
    "from sklearn import linear_model\n",
    "import statsmodels.api as sm\n",
    "from sklearn import linear_model\n",
    "import Tkinter as tk\n",
    "import statsmodels.api as sm\n",
    "from pyvttbl import DataFrame\n",
    "from scipy.stats import spearmanr\n",
    "from statsmodels.tsa.seasonal import seasonal_decompose\n",
    "\n",
    "#Listing the existing files in the dir\n",
    "for root, dirs, files in os.walk(\".\"):  \n",
    "    for filename in files:\n",
    "        print(filename)"
   ]
  },
  {
   "cell_type": "code",
   "execution_count": 22,
   "metadata": {},
   "outputs": [],
   "source": [
    "geneSet = \" abcdefghijklmnopqrstuvwxyzABCDEFGHIJKLMNOPQRSTUVWXYZ!.\" \n",
    "target = \"Hello World!\""
   ]
  },
  {
   "cell_type": "code",
   "execution_count": 26,
   "metadata": {},
   "outputs": [
    {
     "name": "stdout",
     "output_type": "stream",
     "text": [
      "SplMYqljPoxR\t1\t0:01:34.448000\n",
      "SplMYqljroxR\t2\t0:01:34.449000\n",
      "SplMYqloroxR\t3\t0:01:34.454000\n",
      "SpllYqloroxR\t4\t0:01:34.462000\n",
      "SpllYqlorodR\t5\t0:01:34.472000\n",
      "SpllYqlorldR\t6\t0:01:34.477000\n",
      "SpllY lorldR\t7\t0:01:34.479000\n",
      "HpllY lorldR\t8\t0:01:34.481000\n",
      "Hpllo lorldR\t9\t0:01:34.485000\n",
      "Hpllo lorld!\t10\t0:01:34.492000\n",
      "Hello lorld!\t11\t0:01:34.519000\n",
      "Hello World!\t12\t0:01:34.628000\n"
     ]
    }
   ],
   "source": [
    "import random\n",
    "import datetime\n",
    "\n",
    "def generate_parent(length):   \n",
    "    genes = []\n",
    "    while len(genes) < length:\n",
    "        sampleSize = min(length - len(genes), len(geneSet))\n",
    "        genes.extend(random.sample(geneSet, sampleSize))\n",
    "        return ''.join(genes)\n",
    "\n",
    "def get_fitness(guess):\n",
    "    return sum(1 for expected, actual in zip(target, guess)\n",
    "               if expected == actual)\n",
    "\n",
    "def mutate(parent):\n",
    "    index = random.randrange(0, len(parent))\n",
    "    childGenes = list(parent)\n",
    "    newGene, alternate = random.sample(geneSet, 2)\n",
    "    childGenes[index] = alternate \\\n",
    "        if newGene == childGenes[index] \\\n",
    "        else newGene\n",
    "    return ''.join(childGenes)\n",
    "\n",
    "\n",
    "def display(guess):\n",
    "    timeDiff = datetime.datetime.now() - startTime\n",
    "    fitness = get_fitness(guess)\n",
    "    print(\"{0}\\t{1}\\t{2}\".format(guess, fitness, str(timeDiff)))\n",
    "\n",
    "while True:\n",
    "    child = mutate(bestParent)\n",
    "    childFitness = get_fitness(child)\n",
    "    if bestFitness >= childFitness:\n",
    "        continue\n",
    "    display(child)\n",
    "    if childFitness >= len(bestParent):\n",
    "        break\n",
    "    bestFitness = childFitness\n",
    "    bestParent = child\n"
   ]
  },
  {
   "cell_type": "code",
   "execution_count": 24,
   "metadata": {},
   "outputs": [
    {
     "name": "stdout",
     "output_type": "stream",
     "text": [
      "SpZMYqljPoxR\t0\t0:00:00\n"
     ]
    }
   ],
   "source": [
    "random.seed()\n",
    "startTime = datetime.datetime.now()\n",
    "bestParent = generate_parent(len(target))\n",
    "bestFitness = get_fitness(bestParent)\n",
    "display(bestParent)"
   ]
  }
 ],
 "metadata": {
  "kernelspec": {
   "display_name": "python3.5",
   "language": "python",
   "name": "python3.5"
  },
  "language_info": {
   "codemirror_mode": {
    "name": "ipython",
    "version": 2
   },
   "file_extension": ".py",
   "mimetype": "text/x-python",
   "name": "python",
   "nbconvert_exporter": "python",
   "pygments_lexer": "ipython2",
   "version": "2.7.15"
  }
 },
 "nbformat": 4,
 "nbformat_minor": 2
}
