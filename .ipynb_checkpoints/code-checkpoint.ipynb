{
 "cells": [
  {
   "cell_type": "code",
   "execution_count": null,
   "metadata": {},
   "outputs": [],
   "source": [
    "#Imnporting libraries\n",
    "import pandas as pd\n",
    "import numpy as np\n",
    "from scipy.optimize import fmin_slsqp\n",
    "import os\n",
    "import matplotlib.pyplot as plt\n",
    "import seaborn as sns\n",
    "from pprint import pprint\n",
    "import math\n",
    "import scipy\n",
    "import scipy.stats as stats\n",
    "from matplotlib.ticker import MultipleLocator\n",
    "from matplotlib.ticker import MaxNLocator\n",
    "import matplotlib.pyplot as plt\n",
    "from sklearn import datasets\n",
    "from sklearn import linear_model\n",
    "import statsmodels.api as sm\n",
    "from sklearn import linear_model\n",
    "import Tkinter as tk\n",
    "import statsmodels.api as sm\n",
    "from pyvttbl import DataFrame\n",
    "from scipy.stats import spearmanr\n",
    "from statsmodels.tsa.seasonal import seasonal_decompose\n",
    "\n",
    "#Listing the existing files in the dir\n",
    "for root, dirs, files in os.walk(\".\"):  \n",
    "    for filename in files:\n",
    "        print(filename)"
   ]
  },
  {
   "cell_type": "code",
   "execution_count": 22,
   "metadata": {},
   "outputs": [],
   "source": [
    "geneSet = \" abcdefghijklmnopqrstuvwxyzABCDEFGHIJKLMNOPQRSTUVWXYZ!.\" \n",
    "target = \"Hello World!\""
   ]
  },
  {
   "cell_type": "code",
   "execution_count": 38,
   "metadata": {},
   "outputs": [
    {
     "name": "stdout",
     "output_type": "stream",
     "text": [
      "Hello World!\t12\t2:49:54.622000\n"
     ]
    }
   ],
   "source": [
    "import random\n",
    "import datetime\n",
    "\n",
    "\n",
    "def generate_parent(length):   \n",
    "    genes = []\n",
    "    while len(genes) < length:\n",
    "        sampleSize = min(length - len(genes), len(geneSet))\n",
    "        genes.extend(random.sample(geneSet, sampleSize))\n",
    "        return ''.join(genes)\n",
    "\n",
    "def get_fitness(guess):\n",
    "    return sum(1 for expected, actual in zip(target, guess)\n",
    "               if expected == actual)\n",
    "\n",
    "def mutate(parent):\n",
    "    index = random.randrange(0, len(parent))\n",
    "    childGenes = list(parent)\n",
    "    newGene, alternate = random.sample(geneSet, 2)\n",
    "    childGenes[index] = alternate \\\n",
    "        if newGene == childGenes[index] \\\n",
    "        else newGene\n",
    "    return ''.join(childGenes)\n",
    "\n",
    "\n",
    "def display(guess):\n",
    "    timeDiff = datetime.datetime.now() - startTime\n",
    "    fitness = get_fitness(guess)\n",
    "    print(\"{0}\\t{1}\\t{2}\".format(guess, fitness, str(timeDiff)))\n",
    "\n",
    "while True:\n",
    "    child = mutate(bestParent)\n",
    "    childFitness = get_fitness(child)\n",
    "    if bestFitness >= childFitness:\n",
    "        continue\n",
    "    display(child)\n",
    "    if childFitness >= len(bestParent):\n",
    "        break\n",
    "    bestFitness = childFitness\n",
    "    bestParent = child\n"
   ]
  },
  {
   "cell_type": "code",
   "execution_count": 24,
   "metadata": {},
   "outputs": [
    {
     "name": "stdout",
     "output_type": "stream",
     "text": [
      "SpZMYqljPoxR\t0\t0:00:00\n"
     ]
    }
   ],
   "source": [
    "random.seed()\n",
    "startTime = datetime.datetime.now()\n",
    "bestParent = generate_parent(len(target))\n",
    "bestFitness = get_fitness(bestParent)\n",
    "display(bestParent)"
   ]
  },
  {
   "cell_type": "code",
   "execution_count": 43,
   "metadata": {},
   "outputs": [
    {
     "name": "stdout",
     "output_type": "stream",
     "text": [
      "YhOjxHZW!vAk\t0\t0:00:00.001000\n",
      "YhOjxHWW!vAk\t1\t0:00:00.003000\n",
      "YhOlxHWW!vAk\t2\t0:00:00.005000\n",
      "YhOlxHWo!vAk\t3\t0:00:00.006000\n",
      "YhOlxHWo!lAk\t4\t0:00:00.006000\n",
      "YhOlxHWorlAk\t5\t0:00:00.008000\n",
      "YeOlxHWorlAk\t6\t0:00:00.011000\n",
      "YeOloHWorlAk\t7\t0:00:00.015000\n",
      "YeOloHWorldk\t8\t0:00:00.020000\n",
      "YelloHWorldk\t9\t0:00:00.021000\n",
      "YelloHWorld!\t10\t0:00:00.022000\n",
      "HelloHWorld!\t11\t0:00:00.025000\n",
      "Hello World!\t12\t0:00:00.035000\n"
     ]
    }
   ],
   "source": [
    "def _generate_parent(length, geneSet):\n",
    "    genes = []\n",
    "    while len(genes) < length:\n",
    "        sampleSize = min(length - len(genes), len(geneSet))\n",
    "        genes.extend(random.sample(geneSet, sampleSize))\n",
    "        return ''.join(genes)\n",
    "def _mutate(parent, geneSet):\n",
    "    index = random.randrange(0, len(parent))\n",
    "    childGenes = list(parent)\n",
    "    newGene, alternate = random.sample(geneSet, 2)\n",
    "    childGenes[index] = alternate \\\n",
    "        if newGene == childGenes[index] \\\n",
    "        else newGene\n",
    "    return ''.join(childGenes)\n",
    "\n",
    "def get_best(get_fitness, targetLen, optimalFitness, geneSet, display):\n",
    "    random.seed()\n",
    "    bestParent = _generate_parent(targetLen, geneSet)\n",
    "    bestFitness = get_fitness(bestParent)\n",
    "    display(bestParent)\n",
    "    if bestFitness >= optimalFitness:\n",
    "        return bestParent\n",
    "    while True:\n",
    "        child = _mutate(bestParent, geneSet)\n",
    "        childFitness = get_fitness(child)\n",
    "        if bestFitness >= childFitness:\n",
    "            continue\n",
    "        display(child)\n",
    "        if childFitness >= optimalFitness:\n",
    "            return child\n",
    "        bestFitness = childFitness\n",
    "        bestParent = child\n",
    "\n",
    "def test_Hello_World():\n",
    "    target = \"Hello World!\"\n",
    "    guess_password(target)\n",
    "    \n",
    "def guess_password(target):\n",
    "    geneset = \" abcdefghijklmnopqrstuvwxyzABCDEFGHIJKLMNOPQRSTUVWXYZ!.\"\n",
    "    startTime = datetime.datetime.now()\n",
    "\n",
    "    def fnGetFitness(genes):\n",
    "        return get_fitness(genes, target)\n",
    "    def fnDisplay(genes):\n",
    "        display(genes, target, startTime)\n",
    "    \n",
    "    optimalFitness = len(target)\n",
    "    get_best(fnGetFitness, len(target), optimalFitness, geneset, fnDisplay)\n",
    "\n",
    "\n",
    "def get_fitness(genes, target):\n",
    "    return sum(1 for expected, actual in zip(target, genes)\n",
    "               if expected == actual)\n",
    "\n",
    "def display(genes, target, startTime):\n",
    "    timeDiff = datetime.datetime.now() - startTime\n",
    "    fitness = get_fitness(genes, target)\n",
    "    print(\"{0}\\t{1}\\t{2}\".format(genes, fitness, str(timeDiff)))\n",
    "    \n",
    "if __name__ == '__main__':\n",
    "    test_Hello_World()\n"
   ]
  }
 ],
 "metadata": {
  "kernelspec": {
   "display_name": "python3.5",
   "language": "python",
   "name": "python3.5"
  },
  "language_info": {
   "codemirror_mode": {
    "name": "ipython",
    "version": 2
   },
   "file_extension": ".py",
   "mimetype": "text/x-python",
   "name": "python",
   "nbconvert_exporter": "python",
   "pygments_lexer": "ipython2",
   "version": "2.7.15"
  }
 },
 "nbformat": 4,
 "nbformat_minor": 2
}
