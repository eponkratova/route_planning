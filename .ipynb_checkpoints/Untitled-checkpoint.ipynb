{
 "cells": [
  {
   "cell_type": "code",
   "execution_count": null,
   "metadata": {},
   "outputs": [],
   "source": [
    "#Importing libraries\n",
    "import numpy as np\n",
    "import random\n",
    "import operator\n",
    "import pandas as pd\n",
    "import matplotlib.pyplot as plt\n",
    "\n",
    "def routeDistance:\n",
    "    \n",
    "def routeFiteness():\n",
    "    \n",
    "    \n",
    "def createRoute(cityList):\n",
    "    route = random.sample(cityList, len(cityList))\n",
    "    return route\n",
    "def initialPopulation(popSize, cityList):\n",
    "    population = []\n",
    "\n",
    "    for i in range(0, popSize):\n",
    "        population.append(createRoute(cityList))\n",
    "    return population\n",
    "def rankRoutes(population):\n",
    "    fitnessResults = {}\n",
    "    for i in range(0,len(population)):\n",
    "        fitnessResults[i] = Fitness(population[i]).routeFitness()\n",
    "    return sorted(fitnessResults.items(), key = operator.itemgetter(1), reverse = True)"
   ]
  },
  {
   "cell_type": "code",
   "execution_count": 8,
   "metadata": {},
   "outputs": [
    {
     "name": "stdout",
     "output_type": "stream",
     "text": [
      "['R' 'U' 'Z' 'L' 'R' 'M' 'C' 'T' 'G']\n"
     ]
    }
   ],
   "source": [
    "cities = {\n",
    "            'R': {'R': 1, 'L': 142, 'Z': 160, 'G': 331, 'M': 266, 'C': 220, 'U': 147, 'K': 220, 'T': 74},\n",
    "            'L': {'R': 142, 'L': 1, 'Z': 143, 'G': 195, 'M': 130, 'C': 78, 'U': 159, 'K': 88, 'T': 93},\n",
    "            'Z': {'R': 160, 'L': 143, 'Z': 1, 'G': 189, 'M': 121, 'C': 152, 'U': 291, 'K': 224, 'T': 224},\n",
    "            'G': {'R': 331, 'L': 195, 'Z': 189, 'G': 1, 'M': 70, 'C': 123, 'U': 301, 'K': 136, 'T': 288},\n",
    "            'M': {'R': 266, 'L': 130, 'Z': 121, 'G': 70, 'M': 1, 'C': 55, 'U': 287, 'K': 131, 'T': 220},\n",
    "            'C': {'R': 220, 'L': 78, 'Z': 152, 'G': 123, 'M': 55, 'C': 1, 'U': 238, 'K': 161, 'T': 170},\n",
    "            'U': {'R': 147, 'L': 159, 'Z': 291, 'G': 301, 'M': 287, 'C': 238, 'U': 1, 'K': 161, 'T': 73},\n",
    "            'K': {'R': 220, 'L': 88, 'Z': 224, 'G': 136, 'M': 131, 'C': 161, 'U': 161, 'K': 1, 'T': 170},\n",
    "            'T': {'R': 74, 'L': 93, 'Z': 224, 'G': 288, 'M': 220, 'C': 170, 'U': 73, 'K': 170, 'T': 1}\n",
    "        }\n",
    "\n",
    "#print \"Start: R\"\n",
    "\n",
    "def createRoute(start, cityList):\n",
    "    path = []\n",
    "    path.append(start)\n",
    "    path_random = random.sample(cityList, (len(cityList)-1))    \n",
    "    path = np.concatenate([path, path_random])    \n",
    "    print path\n",
    "createRoute('R', cities)"
   ]
  }
 ],
 "metadata": {
  "kernelspec": {
   "display_name": "python3.5",
   "language": "python",
   "name": "python3.5"
  },
  "language_info": {
   "codemirror_mode": {
    "name": "ipython",
    "version": 2
   },
   "file_extension": ".py",
   "mimetype": "text/x-python",
   "name": "python",
   "nbconvert_exporter": "python",
   "pygments_lexer": "ipython2",
   "version": "2.7.15"
  }
 },
 "nbformat": 4,
 "nbformat_minor": 2
}
